{
 "cells": [
  {
   "cell_type": "code",
   "execution_count": 1,
   "id": "70403457",
   "metadata": {},
   "outputs": [],
   "source": [
    "import pandas as pd\n",
    "import numpy as np\n",
    "import matplotlib.pyplot as plt\n",
    "\n",
    "from sklearn.linear_model import Ridge, LinearRegression\n",
    "from sklearn.model_selection import train_test_split\n",
    "from sklearn.metrics import mean_squared_error\n",
    "from sklearn.preprocessing import StandardScaler\n",
    "from sklearn.metrics import r2_score"
   ]
  },
  {
   "cell_type": "code",
   "execution_count": 2,
   "id": "9a4e9d30",
   "metadata": {},
   "outputs": [],
   "source": [
    "FEATS = [f'f{i}' for i in range(1024)]"
   ]
  },
  {
   "cell_type": "code",
   "execution_count": 3,
   "id": "70bb35c8",
   "metadata": {},
   "outputs": [],
   "source": [
    "df_dhs = pd.read_csv('./dhs_clusters.csv')"
   ]
  },
  {
   "cell_type": "code",
   "execution_count": null,
   "id": "c09faf6b",
   "metadata": {},
   "outputs": [],
   "source": []
  },
  {
   "cell_type": "code",
   "execution_count": 46,
   "id": "d525d6ed",
   "metadata": {},
   "outputs": [],
   "source": [
    "def transform_df(X):\n",
    "    \n",
    "    # merge with other information available for these locations\n",
    "    X = pd.merge(X, df_dhs, how = 'left', on = ['svyid', 'cluster_index'])\n",
    "    \n",
    "    final_cols = FEATS.copy()\n",
    "    \n",
    "    # apply transformations for each feature f0,..., f1023, \n",
    "    # such as taking average within given country, year, or cluster\n",
    "    \n",
    "    FEATS_country_means = X.groupby('country')[FEATS].mean()\n",
    "    X = X.merge(FEATS_country_means, left_on='country', right_on='country',\n",
    "          suffixes=('', '_country_mean'))\n",
    "    \n",
    "    for f in FEATS:\n",
    "        final_cols.append(f'{f}_country_mean')        \n",
    "    \n",
    "    FEATS_years_means = X.groupby('year')[FEATS].mean()\n",
    "    X = X.merge(FEATS_years_means, left_on='year', right_on='year',\n",
    "          suffixes=('', '_year_mean'))\n",
    "    \n",
    "    for f in FEATS:\n",
    "        final_cols.append(f'{f}_year_mean')\n",
    "        \n",
    "    \n",
    "    FEATS_years_means = X.groupby('cluster_index')[FEATS].mean()\n",
    "    X = X.merge(FEATS_years_means, left_on='cluster_index', right_on='cluster_index',\n",
    "          suffixes=('', '_cluster_index_mean'))\n",
    "    \n",
    "    for f in FEATS:\n",
    "        final_cols.append(f'{f}_cluster_index_mean')\n",
    "        \n",
    "    \n",
    "    FEATS_rural_means = X.groupby('urban_rural')[FEATS].mean()\n",
    "    X = X.merge(FEATS_rural_means, left_on='urban_rural', right_on='urban_rural',\n",
    "          suffixes=('', '_urban_rural_mean'))\n",
    "    for f in FEATS:\n",
    "        final_cols.append(f'{f}_urban_rural_mean')\n",
    "        \n",
    "        \n",
    "    final_cols.extend(['urban_rural', 'labels'])\n",
    "    \n",
    "    return X[final_cols]"
   ]
  },
  {
   "cell_type": "code",
   "execution_count": 25,
   "id": "d2d84861",
   "metadata": {},
   "outputs": [],
   "source": [
    "def fit_ridge(X_train, y_train, X_val, y_val):\n",
    "    try_alphas = np.logspace(-5, 5, 20)\n",
    "\n",
    "    min_error = np.inf \n",
    "    for alpha in try_alphas:\n",
    "        model = Ridge(alpha=alpha)\n",
    "        model.fit(X_train, y_train)\n",
    "        y_pred = model.predict(X_val)\n",
    "        mse = mean_squared_error(y_val, y_pred)\n",
    "        if mse < min_error:\n",
    "            min_error = mse\n",
    "            best_alpha = alpha\n",
    "\n",
    "    print(f\"Best alpha: {best_alpha}\")\n",
    "    # print(f\"Minimum Mean Squared Error: {min_error}\")\n",
    "    \n",
    "    model = Ridge(alpha = best_alpha)\n",
    "    model.fit(pd.concat([X_train, X_val], axis = 0), \n",
    "              pd.concat([y_train, y_val], axis = 0))\n",
    "    \n",
    "    return model"
   ]
  },
  {
   "cell_type": "code",
   "execution_count": null,
   "id": "659f145a",
   "metadata": {},
   "outputs": [],
   "source": []
  },
  {
   "cell_type": "code",
   "execution_count": 53,
   "id": "ce8d0542",
   "metadata": {},
   "outputs": [],
   "source": [
    "model_scores = []\n",
    "correlations = []\n",
    "baseline_scores = []\n",
    "baseline_correlatins = []\n",
    "\n",
    "def add_transformations(fold_index):\n",
    "\n",
    "    train_df = pd.read_csv(f'./1027features/ic_1027_train_{fold_index + 1}.csv')\n",
    "    val_df = pd.read_csv(f'./1027features/ic_1027_val_{fold_index + 1}.csv')\n",
    "    test_df = pd.read_csv(f'./1027features/ic_1027_test_{fold_index + 1}.csv')\n",
    "    \n",
    "    # calculating baseline scores:\n",
    "    best_baseline = fit_ridge(X_train=train_df[FEATS], y_train=train_df['labels'], \n",
    "                              X_val=val_df[FEATS], y_val=val_df['labels'])\n",
    "    \n",
    "    y_pred = best_baseline.predict(test_df[FEATS])\n",
    "    baseline_scores.append(r2_score(test_df['labels'], y_pred))\n",
    "    baseline_correlatins.append(pd.Series(test_df['labels']).corr(pd.Series(y_pred)))\n",
    "    del y_pred\n",
    "\n",
    "    # applying transformations:\n",
    "    X_train = transform_df(train_df)\n",
    "    X_val = transform_df(val_df)\n",
    "    X_test = transform_df(test_df)\n",
    "    \n",
    "    y_train = X_train.pop('labels')\n",
    "    y_val = X_val.pop('labels')\n",
    "    y_test = X_test.pop('labels')\n",
    "        \n",
    "    best_model = fit_ridge(X_train=X_train, y_train=y_train, X_val=X_val, y_val=y_val)\n",
    "    \n",
    "    y_pred = best_model.predict(X_test)\n",
    "    model_scores.append(r2_score(y_test, y_pred))\n",
    "    correlations.append(pd.Series(y_test).corr(pd.Series(y_pred)))                       \n",
    "                        \n",
    "    \n",
    "    #X_train.to_csv(f'./1027features/ic_1027_train_{fold_index + 1}_transformed.csv')\n",
    "    #X_val.to_csv(f'./1027features/ic_1027_val_{fold_index + 1}_transformed.csv')\n",
    "    #X_test.to_csv(f'./1027features/ic_1027_test_{fold_index + 1}_transformed.csv')\n",
    "    \n",
    "    print(f'done with fold = {fold_index}')"
   ]
  },
  {
   "cell_type": "code",
   "execution_count": 54,
   "id": "17031589",
   "metadata": {},
   "outputs": [
    {
     "name": "stdout",
     "output_type": "stream",
     "text": [
      "Best alpha: 10000.0\n",
      "Best alpha: 10000.0\n",
      "done with fold = 0\n",
      "Best alpha: 1438.44988828766\n",
      "Best alpha: 10000.0\n",
      "done with fold = 1\n",
      "Best alpha: 1438.44988828766\n",
      "Best alpha: 10000.0\n",
      "done with fold = 2\n",
      "Best alpha: 10000.0\n",
      "Best alpha: 10000.0\n",
      "done with fold = 3\n",
      "Best alpha: 3792.690190732246\n",
      "Best alpha: 3792.690190732246\n",
      "done with fold = 4\n"
     ]
    }
   ],
   "source": [
    "for fold_index in range(5):\n",
    "    add_transformations(fold_index)"
   ]
  },
  {
   "cell_type": "code",
   "execution_count": 55,
   "id": "07767338",
   "metadata": {},
   "outputs": [
    {
     "data": {
      "text/html": [
       "<div>\n",
       "<style scoped>\n",
       "    .dataframe tbody tr th:only-of-type {\n",
       "        vertical-align: middle;\n",
       "    }\n",
       "\n",
       "    .dataframe tbody tr th {\n",
       "        vertical-align: top;\n",
       "    }\n",
       "\n",
       "    .dataframe thead th {\n",
       "        text-align: right;\n",
       "    }\n",
       "</style>\n",
       "<table border=\"1\" class=\"dataframe\">\n",
       "  <thead>\n",
       "    <tr style=\"text-align: right;\">\n",
       "      <th></th>\n",
       "      <th>Correlation</th>\n",
       "      <th>R^2</th>\n",
       "    </tr>\n",
       "  </thead>\n",
       "  <tbody>\n",
       "    <tr>\n",
       "      <th>original</th>\n",
       "      <td>0.829236</td>\n",
       "      <td>0.684952</td>\n",
       "    </tr>\n",
       "    <tr>\n",
       "      <th>with transformations</th>\n",
       "      <td>0.849272</td>\n",
       "      <td>0.718177</td>\n",
       "    </tr>\n",
       "  </tbody>\n",
       "</table>\n",
       "</div>"
      ],
      "text/plain": [
       "                      Correlation       R^2\n",
       "original                 0.829236  0.684952\n",
       "with transformations     0.849272  0.718177"
      ]
     },
     "execution_count": 55,
     "metadata": {},
     "output_type": "execute_result"
    }
   ],
   "source": [
    "# averaging out all correlations and R^2:\n",
    "pd.DataFrame(data = { \n",
    "        'Correlation' : [np.mean(baseline_correlatins), np.mean(correlations)], \n",
    "        'R^2' : [np.mean(baseline_scores), np.mean(model_scores)]\n",
    "    }, index = ['original', 'with transformations'])"
   ]
  },
  {
   "cell_type": "markdown",
   "id": "9e0db537",
   "metadata": {},
   "source": [
    "Improvement happened on every held-out fold:"
   ]
  },
  {
   "cell_type": "code",
   "execution_count": 59,
   "id": "5642f31a",
   "metadata": {},
   "outputs": [
    {
     "data": {
      "text/plain": [
       "array([-0.03145841, -0.02144291, -0.00612288, -0.03083058, -0.01032407])"
      ]
     },
     "execution_count": 59,
     "metadata": {},
     "output_type": "execute_result"
    }
   ],
   "source": [
    "np.array(baseline_correlatins) - np.array(correlations)"
   ]
  },
  {
   "cell_type": "code",
   "execution_count": 60,
   "id": "43d2b6f1",
   "metadata": {},
   "outputs": [
    {
     "data": {
      "text/plain": [
       "array([-0.05415461, -0.03253243, -0.01090052, -0.05220162, -0.01633691])"
      ]
     },
     "execution_count": 60,
     "metadata": {},
     "output_type": "execute_result"
    }
   ],
   "source": [
    "np.array(baseline_scores) - np.array(model_scores)"
   ]
  },
  {
   "cell_type": "code",
   "execution_count": null,
   "id": "cfea15c8",
   "metadata": {},
   "outputs": [],
   "source": []
  },
  {
   "cell_type": "code",
   "execution_count": null,
   "id": "0ff8f597",
   "metadata": {},
   "outputs": [],
   "source": []
  },
  {
   "cell_type": "code",
   "execution_count": null,
   "id": "f0d680ac",
   "metadata": {},
   "outputs": [],
   "source": []
  }
 ],
 "metadata": {
  "kernelspec": {
   "display_name": "Python 3 (ipykernel)",
   "language": "python",
   "name": "python3"
  },
  "language_info": {
   "codemirror_mode": {
    "name": "ipython",
    "version": 3
   },
   "file_extension": ".py",
   "mimetype": "text/x-python",
   "name": "python",
   "nbconvert_exporter": "python",
   "pygments_lexer": "ipython3",
   "version": "3.9.15"
  }
 },
 "nbformat": 4,
 "nbformat_minor": 5
}
